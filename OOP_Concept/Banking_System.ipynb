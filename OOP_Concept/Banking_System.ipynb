{
 "cells": [
  {
   "cell_type": "code",
   "execution_count": null,
   "id": "23bdd0b5",
   "metadata": {},
   "outputs": [
    {
     "name": "stdout",
     "output_type": "stream",
     "text": [
      "How can we help YOU...!\n",
      "1. Create a account.\n",
      "2. Check you bank balance.\n",
      "3. Credit money to your account.\n",
      "4. Withdraw money from the account.\n",
      "Enter your choice : 1\n",
      "Which type of account do you want?\n",
      "1. Savings\n",
      "2. Current\n",
      "Enter your choice : 1\n",
      "Enter your name : b\n",
      "Enter your age  : 2\n",
      "Enter your choice : 5\n",
      "<__main__.User object at 0x00000248477A1F88>\n"
     ]
    }
   ],
   "source": [
    "class User:\n",
    "    def __init__(self, name, age, user_id, account_type):\n",
    "        self.name = name\n",
    "        self.age = age  \n",
    "        self.user_id = user_id  \n",
    "        self.account_type = account_type  \n",
    "        \n",
    "    def __str__(self):\n",
    "        return f\"User ID: {self.user_id}, Name: {self.name}, Age: {self.age}, Account Type: {self.account_type}\"\n",
    "\n",
    "\n",
    "class Account:\n",
    "    def __init__(self):\n",
    "        self.user_details = [] # stores the newly added user details as a object in here.\n",
    "        \n",
    "    def add_user(self,user):\n",
    "        self.user_details.append(user)\n",
    "    \n",
    "    \n",
    "class Savings(Account):\n",
    "    pass \n",
    "    \n",
    "    \n",
    "class Current(Account):\n",
    "    pass\n",
    "    \n",
    "\n",
    "    \n",
    "def main():\n",
    "    user_id = 1 \n",
    "    account = Account()\n",
    "    print(\"How can we help YOU...!\")\n",
    "    print(\"1. Create a account.\")\n",
    "    print(\"2. Check you bank balance.\")\n",
    "    print(\"3. Credit money to your account.\")\n",
    "    print(\"4. Withdraw money from the account.\")\n",
    "    print(\"5. Print the details of the user.\")\n",
    "    \n",
    "   \n",
    "    while True:\n",
    "        choice = int(input(\"Enter your choice : \"))\n",
    "        if choice == 1:\n",
    "            print(\"Which type of account do you want?\")\n",
    "            print(\"1. Savings\")\n",
    "            print(\"2. Current\")\n",
    "            account_choice = int(input(\"Enter your choice : \"))\n",
    "            user_name = input(\"Enter your name : \")\n",
    "            user_age  = int(input(\"Enter your age  : \"))\n",
    "            if account_choice == 1:\n",
    "                newuser = User(user_name,user_age,user_id,account_choice)\n",
    "            else :\n",
    "                newuser = User(user_name,user_age,user_id,account_choice)\n",
    "            \n",
    "            account.add_user(newuser)\n",
    "            user_id = user_id + 1\n",
    "            \n",
    "        elif choice == 5:\n",
    "            # Print user details if choice is 5\n",
    "            if not account.user_details:\n",
    "                print(\"No user details available.\")\n",
    "            else:\n",
    "                for user in account.user_details:\n",
    "                    print(user)\n",
    "        \n",
    "        \n",
    "        \n",
    "    \n",
    "main() \n",
    "    "
   ]
  }
 ],
 "metadata": {
  "kernelspec": {
   "display_name": "Python 3 (ipykernel)",
   "language": "python",
   "name": "python3"
  },
  "language_info": {
   "codemirror_mode": {
    "name": "ipython",
    "version": 3
   },
   "file_extension": ".py",
   "mimetype": "text/x-python",
   "name": "python",
   "nbconvert_exporter": "python",
   "pygments_lexer": "ipython3",
   "version": "3.7.16"
  },
  "varInspector": {
   "cols": {
    "lenName": 16,
    "lenType": 16,
    "lenVar": 40
   },
   "kernels_config": {
    "python": {
     "delete_cmd_postfix": "",
     "delete_cmd_prefix": "del ",
     "library": "var_list.py",
     "varRefreshCmd": "print(var_dic_list())"
    },
    "r": {
     "delete_cmd_postfix": ") ",
     "delete_cmd_prefix": "rm(",
     "library": "var_list.r",
     "varRefreshCmd": "cat(var_dic_list()) "
    }
   },
   "types_to_exclude": [
    "module",
    "function",
    "builtin_function_or_method",
    "instance",
    "_Feature"
   ],
   "window_display": false
  }
 },
 "nbformat": 4,
 "nbformat_minor": 5
}
